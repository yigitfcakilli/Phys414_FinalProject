{
 "cells": [
  {
   "cell_type": "code",
   "execution_count": 1,
   "metadata": {},
   "outputs": [],
   "source": [
    "import numpy as np\n",
    "import matplotlib.pyplot as plt\n",
    "import pandas as pd"
   ]
  },
  {
   "cell_type": "code",
   "execution_count": 96,
   "metadata": {},
   "outputs": [],
   "source": [
    "## Constants\n",
    "G = 6.6743 * 1e-11 # Gravitational constant\n",
    "M_Sun = 1.9885 * 1e30 # mass of the Sun in kg (from NASA)\n",
    "R_earth = 6.371 * 1e6 # average radius of the earth in meters (from Wikipedia)\n",
    "cm_to_m = 1e-2 # cm to m conversion\n",
    "m_to_km = 0.001 # m to km conversion\n",
    "c = 299792458 # speed of light m/s\n",
    "from scipy.integrate import solve_ivp\n",
    "pi = np.pi\n",
    "K_NS = 100\n",
    "length_scale = G * M_Sun / np.power(c,2)"
   ]
  },
  {
   "attachments": {},
   "cell_type": "markdown",
   "metadata": {},
   "source": [
    "Implementation for Einstein Part(B)"
   ]
  },
  {
   "cell_type": "code",
   "execution_count": 97,
   "metadata": {},
   "outputs": [],
   "source": [
    "def solve_ivp_TOV(p_c):\n",
    "    ## function explanation\n",
    "    p_tolerance = 1e-10 # tolerance to how far p is from 0 -- integration limit\n",
    "    r_bound =100\n",
    "    \n",
    "    def TOV_rhs(r, current_state):\n",
    "        next_state = np.zeros_like(current_state) # initialize the next state to be returned\n",
    "        ## extract the state information from the corresponding vector state vector elements\n",
    "        m = current_state[0]\n",
    "        v = current_state[1]\n",
    "        p = current_state[2]\n",
    "        rho = np.sqrt(p/K_NS) # given relation between rho and p_c\n",
    "\n",
    "        next_state[0] = 4 * pi * np.power(r,2) * rho\n",
    "        ## handle where the denominator is 0 (that case next_state is all zeros)\n",
    "        if(not (r == 0)):  \n",
    "            ## calculate the derivatives from the provided equations\n",
    "            dv = 2 * ((m + 4 * pi * np.power(r,3) * p) / (r * (r - 2*m)))\n",
    "            dp = (-1/2) * (rho + p) * v\n",
    "            next_state[1] = dv\n",
    "            next_state[2] = dp\n",
    "        return next_state\n",
    "\n",
    "    def stop_condition(r, current_state):\n",
    "        p = current_state[2] \n",
    "        return np.abs(p) < p_tolerance # Stop when p is close to zero\n",
    "    \n",
    "    initial_conditions = np.asarray([0, 0, p_c]).astype(float)\n",
    "    result = solve_ivp(TOV_rhs, t_span = [0, r_bound], y0=initial_conditions, events=stop_condition)\n",
    "    final_r = result.t[-1]\n",
    "    final_m = result.y[0,-1]\n",
    "    \n",
    "    return final_r, final_m\n"
   ]
  },
  {
   "cell_type": "code",
   "execution_count": 109,
   "metadata": {},
   "outputs": [
    {
     "name": "stderr",
     "output_type": "stream",
     "text": [
      "/var/folders/j2/_m2jcv351b1bl0wyjjwt_0jr0000gn/T/ipykernel_15302/2331196076.py:12: RuntimeWarning: invalid value encountered in sqrt\n",
      "  rho = np.sqrt(p/K_NS) # given relation between rho and p_c\n"
     ]
    },
    {
     "name": "stdout",
     "output_type": "stream",
     "text": [
      "1476.6919695142465\n"
     ]
    },
    {
     "data": {
      "image/png": "[encoded data removed]",
      "text/plain": [
       "<Figure size 648x360 with 1 Axes>"
      ]
     },
     "metadata": {
      "needs_background": "light"
     },
     "output_type": "display_data"
    }
   ],
   "source": [
    "## Plot the M vs R by integrating TOV equations for difference p_c values\n",
    "sample_size = 100\n",
    "\n",
    "## Sample points -- I tried to set the range so that I get a similar plot to the ones online\n",
    "rho_range = np.logspace(-7,-1.7, sample_size)\n",
    "p_c_range = K_NS * np.power(rho_range, 2)\n",
    "\n",
    "# To store the solutions for different p_c values\n",
    "R_array = []\n",
    "M_array = []\n",
    "# Solve the initial value problem for different p_c values\n",
    "for p_c in p_c_range:\n",
    "    R, M = solve_ivp_TOV(p_c)\n",
    "    R_array.append(R)\n",
    "    M_array.append(M)\n",
    "\n",
    "R_array = np.asarray(R_array)\n",
    "M_array = np.asarray(M_array)\n",
    "\n",
    "#Plot the result\n",
    "print(length_scale)\n",
    "plt.figure(figsize=(9,5))\n",
    "plt.scatter(R_array*length_scale*m_to_km, M_array)\n",
    "plt.plot(R_array*length_scale*m_to_km, M_array, linestyle='dashed',color = 'black')\n",
    "plt.xlabel('Radius (km)')\n",
    "plt.ylabel('Mass (Solar Mass)')\n",
    "plt.title(\"Mass vs Radius curve for Neutron Stars\")\n",
    "plt.show()"
   ]
  },
  {
   "attachments": {},
   "cell_type": "markdown",
   "metadata": {},
   "source": [
    "Implementation for Einstein Part(B)"
   ]
  },
  {
   "cell_type": "code",
   "execution_count": 110,
   "metadata": {},
   "outputs": [],
   "source": [
    "def solve_ivp_TOV_Rest(p_c):\n",
    "    ## function explanation\n",
    "    p_tolerance = 1e-10 # tolerance to how far p is from 0 -- integration limit\n",
    "    r_bound =100\n",
    "    \n",
    "    def TOV_rhs(r, current_state):\n",
    "        next_state = np.zeros_like(current_state) # initialize the next state to be returned\n",
    "        ## extract the state information from the corresponding vector state vector elements\n",
    "        m = current_state[0]\n",
    "        v = current_state[1]\n",
    "        p = current_state[2]\n",
    "        mp = current_state[3]\n",
    "        rho = np.sqrt(p/K_NS) # given relation between rho and p_c\n",
    "\n",
    "        next_state[0] = 4 * pi * np.power(r,2) * rho\n",
    "        ## handle where the denominator is 0 (that case next_state is all zeros)\n",
    "        if(not (r == 0)):  \n",
    "            ## calculate the derivatives from the provided equations\n",
    "            dv = 2 * ((m + 4 * pi * np.power(r,3) * p) / (r * (r - 2*m)))\n",
    "            dp = (-1/2) * (rho + p) * v\n",
    "            dmp = 4 * pi * np.power(1 - (2 * m) / r, (-1/2)) * np.power(r,2) * rho \n",
    "            next_state[1] = dv\n",
    "            next_state[2] = dp\n",
    "            next_state[3] = dmp\n",
    "        return next_state\n",
    "\n",
    "    def stop_condition(r, current_state):\n",
    "        p = current_state[2] \n",
    "        return np.abs(p) < p_tolerance # Stop when p is close to zero\n",
    "    \n",
    "    initial_conditions = np.asarray([0, 0, p_c, 0]).astype(float)\n",
    "    result = solve_ivp(TOV_rhs, t_span = [0, r_bound], y0=initial_conditions, events=stop_condition)\n",
    "    final_r = result.t[-1]\n",
    "    final_m = result.y[0,-1]\n",
    "    final_mp = result.y[3,-1]\n",
    "    \n",
    "    return final_r, final_m, final_mp\n"
   ]
  },
  {
   "cell_type": "code",
   "execution_count": 112,
   "metadata": {},
   "outputs": [
    {
     "name": "stderr",
     "output_type": "stream",
     "text": [
      "/var/folders/j2/_m2jcv351b1bl0wyjjwt_0jr0000gn/T/ipykernel_15302/3923997965.py:13: RuntimeWarning: invalid value encountered in sqrt\n",
      "  rho = np.sqrt(p/K_NS) # given relation between rho and p_c\n"
     ]
    },
    {
     "name": "stdout",
     "output_type": "stream",
     "text": [
      "1476.6919695142465\n"
     ]
    },
    {
     "data": {
      "image/png": "[encoded data removed]",
      "text/plain": [
       "<Figure size 648x360 with 1 Axes>"
      ]
     },
     "metadata": {
      "needs_background": "light"
     },
     "output_type": "display_data"
    }
   ],
   "source": [
    "## Plot the Delta vs R by integrating TOV equations for difference p_c values\n",
    "sample_size = 100\n",
    "\n",
    "## Sample points -- I tried to set the range so that I get a similar plot to the ones online\n",
    "rho_range = np.logspace(-7,-1.7, sample_size)\n",
    "p_c_range = K_NS * np.power(rho_range, 2)\n",
    "\n",
    "# To store the solutions for different p_c values\n",
    "R_array = []\n",
    "M_array = []\n",
    "MP_array = []\n",
    "# Solve the initial value problem for different p_c values\n",
    "for p_c in p_c_range:\n",
    "    R, M, MP = solve_ivp_TOV_Rest(p_c)\n",
    "    R_array.append(R)\n",
    "    M_array.append(M)\n",
    "    MP_array.append(MP)\n",
    "\n",
    "R_array = np.asarray(R_array)\n",
    "M_array = np.asarray(M_array)\n",
    "MP_array = np.asarray(MP_array)\n",
    "\n",
    "delta = (MP_array - M_array)/M_array\n",
    "\n",
    "#Plot the result\n",
    "print(length_scale)\n",
    "plt.figure(figsize=(9,5))\n",
    "plt.scatter(R_array*length_scale*m_to_km, delta)\n",
    "plt.plot(R_array*length_scale*m_to_km, delta, linestyle='dashed',color = 'black')\n",
    "plt.xlabel('Radius (km)')\n",
    "plt.ylabel('Mass (Solar Mass)')\n",
    "plt.title(\"Mass vs Radius curve for Neutron Stars\")\n",
    "plt.show()"
   ]
  },
  {
   "attachments": {},
   "cell_type": "markdown",
   "metadata": {},
   "source": [
    "Implementation for Part(C)"
   ]
  },
  {
   "cell_type": "code",
   "execution_count": null,
   "metadata": {},
   "outputs": [],
   "source": []
  }
 ],
 "metadata": {
  "kernelspec": {
   "display_name": "cwq",
   "language": "python",
   "name": "python3"
  },
  "language_info": {
   "codemirror_mode": {
    "name": "ipython",
    "version": 3
   },
   "file_extension": ".py",
   "mimetype": "text/x-python",
   "name": "python",
   "nbconvert_exporter": "python",
   "pygments_lexer": "ipython3",
   "version": "3.9.12"
  },
  "orig_nbformat": 4
 },
 "nbformat": 4,
 "nbformat_minor": 2
}
