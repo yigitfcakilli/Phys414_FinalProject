{
 "cells": [
  {
   "cell_type": "code",
   "execution_count": 4,
   "metadata": {},
   "outputs": [],
   "source": [
    "import numpy as np\n",
    "import matplotlib.pyplot as plt\n",
    "import pandas as pd"
   ]
  },
  {
   "attachments": {},
   "cell_type": "markdown",
   "metadata": {},
   "source": [
    "Implementation for Part(B)"
   ]
  },
  {
   "cell_type": "code",
   "execution_count": 29,
   "metadata": {},
   "outputs": [],
   "source": [
    "def read_data(filename):\n",
    "    ## Reads the data wd data and plots and returns the data with asked scalings and conversions\n",
    "\n",
    "    ## Retrieve the data from the file\n",
    "    data = pd.read_csv(filename)\n",
    "\n",
    "    ## Extract the data\n",
    "    wdid_array = np.asarray(data.wdid)\n",
    "    logg_array = np.asarray(data.logg)\n",
    "    mass_array = np.asarray(data.mass)\n",
    "\n",
    "    ## Constants\n",
    "    G = 6.6743 * 1e-11 # Gravitational constant\n",
    "    M_Sun = 1.9885 * 1e30 # mass of the Sun in kg (from NASA)\n",
    "    R_earth = 6.371 * 1e6 # average radius of the earth in meters (from Wikipedia)\n",
    "    cm_to_m = 1e-2 # cm to m conversion\n",
    "\n",
    "    ## Convert to radius using Newtonian gravity    \n",
    "    scaled_r_array = (np.sqrt(G * (mass_array * M_Sun) / (cm_to_m * np.power(10,logg_array)))) / R_earth # scaled radii in units of average earth radius\n",
    "    \n",
    "    ## Plot the data\n",
    "    plt.figure(figsize=(12,7))\n",
    "    plt.scatter(scaled_r_array, mass_array)\n",
    "    plt.xlabel(\"Radius (Average Earth Radius)\")\n",
    "    plt.ylabel(\"Mass (Solar Mass)\")\n",
    "    plt.title(\"Mass vs Radius of White Dwarf Data\")\n",
    "    plt.show()\n",
    "\n"
   ]
  },
  {
   "cell_type": "code",
   "execution_count": null,
   "metadata": {},
   "outputs": [],
   "source": [
    "read_data(\"white_dwarf_data.csv\")"
   ]
  }
 ],
 "metadata": {
  "kernelspec": {
   "display_name": "cwq",
   "language": "python",
   "name": "python3"
  },
  "language_info": {
   "codemirror_mode": {
    "name": "ipython",
    "version": 3
   },
   "file_extension": ".py",
   "mimetype": "text/x-python",
   "name": "python",
   "nbconvert_exporter": "python",
   "pygments_lexer": "ipython3",
   "version": "3.9.12"
  },
  "orig_nbformat": 4
 },
 "nbformat": 4,
 "nbformat_minor": 2
}
